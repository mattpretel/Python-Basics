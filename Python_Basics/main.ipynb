{
 "cells": [
  {
   "cell_type": "code",
   "execution_count": 1,
   "id": "53bb51ea",
   "metadata": {},
   "outputs": [],
   "source": [
    "# Import csv file \n",
    "\n",
    "from pathlib import Path\n",
    "import csv\n",
    "\n",
    "import os\n",
    "import numpy as np\n",
    "\n",
    "#Set the output of the text file\n",
    "output_path = \"output.txt\""
   ]
  },
  {
   "cell_type": "code",
   "execution_count": 8,
   "id": "f8f58785",
   "metadata": {},
   "outputs": [
    {
     "name": "stdout",
     "output_type": "stream",
     "text": [
      "86\n"
     ]
    }
   ],
   "source": [
    "# PERSONAL PRACTICE: Find total amount of months using amount of lines - header\n",
    "\n",
    "file = open('../Resources/budget_data.csv')\n",
    "reader = csv.reader(file)\n",
    "total_months = (len(list(reader)) - 1)\n",
    "\n",
    "print(total_months)"
   ]
  },
  {
   "cell_type": "code",
   "execution_count": 12,
   "id": "f8d195d6",
   "metadata": {},
   "outputs": [
    {
     "name": "stdout",
     "output_type": "stream",
     "text": [
      "86\n",
      "38382578\n"
     ]
    }
   ],
   "source": [
    "# Create file path \n",
    "csvpath = Path('../Resources/budget_data.csv')\n",
    "\n",
    "# Define variables\n",
    "total_months = 0\n",
    "total_profit = 0\n",
    "revenue = []\n",
    "previous_profit = 0\n",
    "months_of_change = []\n",
    "profit_change = 0\n",
    "greatest_increase = [\"\", 0]\n",
    "greatest_decrease = [\"\", 9999999]\n",
    "profit_change_list = []\n",
    "profit_average = 0\n",
    "\n",
    "\n",
    "\n",
    "\n",
    "# Find total months and total revenue using dictreader\n",
    "\n",
    "with open('../Resources/budget_data.csv') as csvfile:\n",
    "    csvreader = csv.DictReader(csvfile)\n",
    "    \n",
    "    for row in csvreader:\n",
    "        \n",
    "        total_months += 1\n",
    "        \n",
    "        total_profit = total_profit + int(row[\"Profit/Losses\"])\n",
    "\n",
    "        \n",
    "        \n",
    "# Find average change variables of profit between months\n",
    "\n",
    "        profit_change = float(row[\"Profit/Losses\"]) - previous_profit\n",
    "        previous_profit = float(row[\"Profit/Losses\"])\n",
    "        profit_change_list = profit_change_list + [profit_change]\n",
    "        months_of_change = [months_of_change] + [row[\"Date\"]]\n",
    "        \n",
    "        \n",
    "        \n",
    "# Create average change formula of profit between months\n",
    "\n",
    "        profit_average = sum(profit_change_list) / len(profit_change_list)\n",
    "\n",
    "    \n",
    "    \n",
    "# Find greatest increase in profit over entire list period\n",
    "\n",
    "        if profit_change > greatest_increase[1]:\n",
    "            greatest_increase[1] = profit_change\n",
    "            greatest_increase[0] = row['Date']\n",
    "\n",
    "            \n",
    "            \n",
    "# Find greatest decrease in profit over entire list period           \n",
    "            \n",
    "        if profit_change < greatest_decrease[1]:\n",
    "            greatest_decrease[1] = profit_change\n",
    "            greatest_decrease[0] = row['Date']\n",
    "\n",
    "\n",
    "\n",
    "# Check\n",
    "print(total_months)\n",
    "print(total_profit)"
   ]
  },
  {
   "cell_type": "code",
   "execution_count": 13,
   "id": "3bc95cba",
   "metadata": {},
   "outputs": [
    {
     "name": "stdout",
     "output_type": "stream",
     "text": [
      "Financial Analysis\n",
      "__________________\n",
      "\n",
      "Total Months: 86\n",
      "Total: $38382578\n",
      "Average Change: $7803.476744186047\n",
      "Greatest Increase in Profits: Feb-2012, $1926159.0\n",
      "Greatest Decrease in Profits: Sep-2013, $-2196167.0\n"
     ]
    }
   ],
   "source": [
    "# Print to check stats\n",
    "\n",
    "print(f\"Financial Analysis\\n__________________\")\n",
    "\n",
    "print(f\"\\nTotal Months: {total_months}\")\n",
    "print(f\"Total: ${total_profit}\")\n",
    "print(f\"Average Change: ${profit_average}\")\n",
    "print(f\"Greatest Increase in Profits: {(greatest_increase[0])}, ${(greatest_increase[1])}\")\n",
    "print(f\"Greatest Decrease in Profits: {(greatest_decrease[0])}, ${(greatest_decrease[1])}\")"
   ]
  },
  {
   "cell_type": "code",
   "execution_count": 14,
   "id": "52f8171d",
   "metadata": {},
   "outputs": [],
   "source": [
    "# Write changes to csv output\n",
    "\n",
    "with open(output_path, 'w') as file:\n",
    "    file.write(\"Financial Analysis\\n---------------------\\n\")\n",
    "    file.write(\"Total Months: %d\\n\" % total_months)\n",
    "    file.write(\"Total Profit: $%d\\n\" % total_profit)\n",
    "    file.write(\"Average Profit Change $%d\\n\" % profit_average)\n",
    "    file.write(\"Greatest Increase in Profit: %s ($%s)\\n\" % (greatest_increase[0], greatest_increase[1]))\n",
    "    file.write(\"Greatest Decrease in Profit: %s ($%s)\\n\" % (greatest_decrease[0], greatest_decrease[1]))"
   ]
  }
 ],
 "metadata": {
  "kernelspec": {
   "display_name": "Python 3 (ipykernel)",
   "language": "python",
   "name": "python3"
  },
  "language_info": {
   "codemirror_mode": {
    "name": "ipython",
    "version": 3
   },
   "file_extension": ".py",
   "mimetype": "text/x-python",
   "name": "python",
   "nbconvert_exporter": "python",
   "pygments_lexer": "ipython3",
   "version": "3.9.7"
  }
 },
 "nbformat": 4,
 "nbformat_minor": 5
}
