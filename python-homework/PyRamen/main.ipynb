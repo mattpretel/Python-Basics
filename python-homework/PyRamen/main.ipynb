{
 "cells": [
  {
   "cell_type": "code",
   "execution_count": 92,
   "id": "3e48a949-dd9b-41fd-8e8f-ac3b340db6dd",
   "metadata": {},
   "outputs": [
    {
     "name": "stdout",
     "output_type": "stream",
     "text": [
      "[['item', 'category', 'description', 'price', 'cost'], ['edamame', 'appetizers', 'boiled soybeans, maldon sea salt', '4', '1'], ['house salad', 'appetizers', 'mixed greens, cherry tomatoes, cucumber, house ginger dressing', '4', '2'], ['cucumber sunomono salad', 'appetizers', 'cucumber, ponzu dressing, pickled ginger sproud, sesame seeds', '5', '2'], ['hiyashi wakame seaweed salad', 'appetizers', 'sweet soy-marinated wakame seaweed threads, pickled ginger sprout, sesame seeds', '5', '2'], ['agedashi tofu', 'appetizers', 'tempura battered tofu, katsuobushi, tsuyu broth, scallions', '5', '2'], ['hiyayakko tofu', 'appetizers', 'chilled soft tofu, house shoyu, katsuobushi, ginger, scallions', '5', '2'], ['pork floss bao', 'appetizers', 'two steamed buns, minced lean slow braised niman, ranch pork belly, cucumbers, sriracha mayo', '4', '2'], ['kakuni bao', 'appetizers', 'two steamed buns, chopped fatty slow braised niman ranch pork belly, cucumbers, house bao sauce', '6', '3'], ['edamame fried gyoza (vegan)', 'appetizers', 'six crispy fried edamame and cabbage pot stickers; ponzu rayu dipping sauce', '6', '3'], ['fried gyoza', 'appetizers', 'six cripsy fried pork and vegetable pot stickers; ponzu rayu dipping sauce', '6', '6'], ['takoyaki', 'appetizers', 'six octopus-filled fried fritters, kewpie mayo, okonomi sauce, aonori, katsuobushi, nori', '6', '3'], ['rock shrimp tempura', 'appetizers', 'deep fried tempura battered rock shrimp, sriracha mayo, nisume sauce, aonori, scallions', '6', '3'], ['soft-shell crab tempura', 'appetizers', 'single deep fried soft-shell crab, tsuyu dipping broth', '6', '3'], ['ebi katsu shrimp bao', 'appetizers', 'two steamed buns, panko-crusted fried shrimp patties, yuzu-kosho mayo, aonori, scallions', '6', '3'], ['nagomi shoyu', 'entree', 'shoyu seasoned clear double stock (organic chick broth + house dashi); slow braised niman ranch pork belly, hanjuku tamago, nori, menma, scallions', '11', '5'], ['shio ramen', 'entree', 'sea salt seasoned clear double stock (organic chicken broth + house dashi); slow braised niman ranch pork belly, hanjuku tamago, kikurage, nori, scallions', '11', '5'], ['spicy miso ramen', 'entree', 'house togarashi miso blend + niman ranch pork bone stock; slow braised niman ranch pork belly, hanjuku tamago, kikurage, nori, scallions', '12', '5'], ['vegetarian spicy miso', 'entree', 'house togarashi miso blend + vegan dashi; tempura fried tofu, sweet corn, edamame, kikurage, nori, scallions; organic soy milk upon request', '12', '5'], ['miso crab ramen', 'entree', 'house miso crab blend + vegan dashi; slow braised niman ranch pork belly, crab meat, hanjuku tamago, kikurage, nori, scallions', '12', '6'], ['soft-shell miso crab ramen', 'entree', 'house miso crab blend + vegan dashi; fried whole soft-shell crab, hanjuku tamago, kikurage, nori, scallions', '14', '7'], ['tori paitan ramen', 'entree', 'rich, shoyu seasoned double stock (organic chicken broth + house dashi); slow braised niman ranch pork belly, hanuku tamago, kikurage, nori, scllaions', '13', '6'], ['tonkotsu ramen', 'entree', 'rich, shoyi seasoned niman ranch pork bone stock; slow braised niman ranch pork belly, hanjuku tamago, kikurage, nori, spring radish, scallions', '13', '6'], ['burnt garlic tonkotsu ramen', 'entree', 'rich, shoyi and burnt garlic seasoned niman ranch pork bone stock; slow braised niman ranch pork belly, hanjuku tamago, kikurage, sweet corn, nori, scallions', '14', '6'], ['vegetarian curry + king trumpet mushroom ramen', 'entree', 'house curry blend + vegan dashi; fried king trumpet mushroom, tempura fried tofu, mung bean sprouts, kikurage, nori, scallions', '13', '7'], ['truffle butter ramen', 'entree', 'rich, shoyu seasoned niman ranch prok bone stock; truffle compound butter, slow braised niman ranch pork belly, kikurage, sweet corn, nori, scallions', '14', '7'], ['green tea', 'drinks', 'green tea', '2.5', '1'], ['coke', 'drinks', 'Coca Cola soda', '2', '1'], ['black sesame ice cream', 'desserts', 'house-made black sesame ice cream, valrhona chocolate threads, complimentary hojicha', '5', '2'], ['matcha ice cream', 'desserts', 'house-made matcha ice cream, white chocolate pearls; complimentary hojicha', '5', '2'], ['mango mochi ice cream', 'desserts', 'two rice-cake bonbons filled with strawberry ice cream; complimentary hojicha', '5', '2'], ['strawberry mochi ice cream', 'desserts', 'two rice-cake bonbons filled with strawberry ice cream; complimentary hojicha', '5', '2'], ['black sesame creme brulee', 'desserts', 'house made black sesame infused creme brulee; complimentary hojicha', '6', '3']]\n"
     ]
    },
    {
     "ename": "TypeError",
     "evalue": "expected str, bytes or os.PathLike object, not list",
     "output_type": "error",
     "traceback": [
      "\u001b[0;31m---------------------------------------------------------------------------\u001b[0m",
      "\u001b[0;31mTypeError\u001b[0m                                 Traceback (most recent call last)",
      "\u001b[0;32m/var/folders/4f/qncpzhsn5js9hbdzrb79kxrh0000gn/T/ipykernel_4589/963018945.py\u001b[0m in \u001b[0;36m<module>\u001b[0;34m\u001b[0m\n\u001b[1;32m     30\u001b[0m \u001b[0;31m# @TODO: Read in the sales data into the sales list\u001b[0m\u001b[0;34m\u001b[0m\u001b[0;34m\u001b[0m\u001b[0m\n\u001b[1;32m     31\u001b[0m \u001b[0;34m\u001b[0m\u001b[0m\n\u001b[0;32m---> 32\u001b[0;31m \u001b[0;32mwith\u001b[0m \u001b[0mopen\u001b[0m\u001b[0;34m(\u001b[0m\u001b[0msales\u001b[0m\u001b[0;34m,\u001b[0m \u001b[0;34m'r'\u001b[0m\u001b[0;34m)\u001b[0m \u001b[0;32mas\u001b[0m \u001b[0ms\u001b[0m\u001b[0;34m:\u001b[0m\u001b[0;34m\u001b[0m\u001b[0;34m\u001b[0m\u001b[0m\n\u001b[0m\u001b[1;32m     33\u001b[0m     \u001b[0msales_reader\u001b[0m \u001b[0;34m=\u001b[0m \u001b[0mcsv\u001b[0m\u001b[0;34m.\u001b[0m\u001b[0mreader\u001b[0m\u001b[0;34m(\u001b[0m\u001b[0ms\u001b[0m\u001b[0;34m)\u001b[0m\u001b[0;34m\u001b[0m\u001b[0;34m\u001b[0m\u001b[0m\n\u001b[1;32m     34\u001b[0m     \u001b[0msales\u001b[0m \u001b[0;34m=\u001b[0m \u001b[0mlist\u001b[0m\u001b[0;34m(\u001b[0m\u001b[0msales_reader\u001b[0m\u001b[0;34m)\u001b[0m\u001b[0;34m\u001b[0m\u001b[0;34m\u001b[0m\u001b[0m\n",
      "\u001b[0;31mTypeError\u001b[0m: expected str, bytes or os.PathLike object, not list"
     ]
    }
   ],
   "source": [
    "# -*- coding: UTF-8 -*-\n",
    "\"\"\"PyRamen Homework Starter.\"\"\"\n",
    "\n",
    "#NOTES: I tried lol\n",
    "\n",
    "\n",
    "# @TODO: Import libraries\n",
    "\n",
    "import csv\n",
    "from pathlib import Path\n",
    "\n",
    "# @TODO: Set file paths for menu_data.csv and sales_data.csv\n",
    "\n",
    "menu_filepath = Path('Resources/menu_data.csv')\n",
    "sales_filepath = Path('Resources/sales_data.csv')\n",
    "\n",
    "# @TODO: Initialize list objects to hold our menu and sales data\n",
    "\n",
    "menu = []\n",
    "sales = []\n",
    "\n",
    "# @TODO: Read in the menu data into the menu list\n",
    "\n",
    "\n",
    "with open(menu_filepath, 'r') as m:\n",
    "    menu_reader = csv.reader(m)\n",
    "    menu = list(menu_reader)\n",
    "\n",
    "print(menu)\n"
   ]
  },
  {
   "cell_type": "code",
   "execution_count": 94,
   "id": "f2fbd94d-1644-41e8-85e3-ebc58395292c",
   "metadata": {},
   "outputs": [
    {
     "name": "stderr",
     "output_type": "stream",
     "text": [
      "IOPub data rate exceeded.\n",
      "The Jupyter server will temporarily stop sending output\n",
      "to the client in order to avoid crashing it.\n",
      "To change this limit, set the config variable\n",
      "`--ServerApp.iopub_data_rate_limit`.\n",
      "\n",
      "Current values:\n",
      "ServerApp.iopub_data_rate_limit=1000000.0 (bytes/sec)\n",
      "ServerApp.rate_limit_window=3.0 (secs)\n",
      "\n"
     ]
    }
   ],
   "source": [
    "# @TODO: Read in the sales data into the sales list\n",
    "\n",
    "with open(sales_filepath, 'r') as s:\n",
    "    sales_reader = csv.reader(s)\n",
    "    sales = list(sales_reader)\n",
    "\n",
    "print(sales)"
   ]
  },
  {
   "cell_type": "code",
   "execution_count": 98,
   "id": "631cadcd-09bf-4986-be4a-e41d172c2255",
   "metadata": {},
   "outputs": [
    {
     "ename": "IndentationError",
     "evalue": "unexpected indent (1586257109.py, line 14)",
     "output_type": "error",
     "traceback": [
      "\u001b[0;36m  File \u001b[0;32m\"/var/folders/4f/qncpzhsn5js9hbdzrb79kxrh0000gn/T/ipykernel_4589/1586257109.py\"\u001b[0;36m, line \u001b[0;32m14\u001b[0m\n\u001b[0;31m    print(row_count)\u001b[0m\n\u001b[0m    ^\u001b[0m\n\u001b[0;31mIndentationError\u001b[0m\u001b[0;31m:\u001b[0m unexpected indent\n"
     ]
    }
   ],
   "source": [
    "# @TODO: Initialize dict object to hold our key-value pairs of items and metrics\n",
    "\n",
    "report = {}\n",
    "\n",
    "\n",
    "# Initialize a row counter variable\n",
    "\n",
    "row_count = 0\n",
    "\n",
    "\n",
    "# @TODO: Loop over every row in the sales list object\n",
    "\n",
    "#for row_count in sales:\n",
    "    print(row_count)\n",
    "\n",
    "    #for row in sales_file:\n",
    "        #sales.append[sales]    \n",
    "\n",
    "\n"
   ]
  },
  {
   "cell_type": "code",
   "execution_count": 99,
   "id": "008da10f-b404-4efa-83fd-a91ad574e2a5",
   "metadata": {},
   "outputs": [],
   "source": [
    " # Line_Item_ID,Date,Credit_Card_Number,Quantity,Menu_Item\n",
    "    # @TODO: Initialize sales data variables\n",
    "\n",
    "sales_data_variables = ('Line_Item_ID', 'Date', 'Credit_Card_Number', 'Quantity', 'Menu_Item')\n",
    "    \n",
    "    "
   ]
  },
  {
   "cell_type": "code",
   "execution_count": null,
   "id": "4adb90f9-198b-4e83-9ce2-be2049f11ae2",
   "metadata": {},
   "outputs": [],
   "source": [
    " # @TODO:\n",
    "    # If the item value not in the report, add it as a new entry with initialized metrics\n",
    "    # Naming convention allows the keys to be ordered in logical fashion, count, revenue, cost, profit\n",
    "    \n",
    "   \n",
    "    "
   ]
  },
  {
   "cell_type": "code",
   "execution_count": 101,
   "id": "bc4dd009-cded-4cf1-83c8-e9e54c83d4a4",
   "metadata": {},
   "outputs": [
    {
     "name": "stdout",
     "output_type": "stream",
     "text": [
      "['item', 'category', 'description', 'price', 'cost']\n",
      "['edamame', 'appetizers', 'boiled soybeans, maldon sea salt', '4', '1']\n",
      "['house salad', 'appetizers', 'mixed greens, cherry tomatoes, cucumber, house ginger dressing', '4', '2']\n",
      "['cucumber sunomono salad', 'appetizers', 'cucumber, ponzu dressing, pickled ginger sproud, sesame seeds', '5', '2']\n",
      "['hiyashi wakame seaweed salad', 'appetizers', 'sweet soy-marinated wakame seaweed threads, pickled ginger sprout, sesame seeds', '5', '2']\n",
      "['agedashi tofu', 'appetizers', 'tempura battered tofu, katsuobushi, tsuyu broth, scallions', '5', '2']\n",
      "['hiyayakko tofu', 'appetizers', 'chilled soft tofu, house shoyu, katsuobushi, ginger, scallions', '5', '2']\n",
      "['pork floss bao', 'appetizers', 'two steamed buns, minced lean slow braised niman, ranch pork belly, cucumbers, sriracha mayo', '4', '2']\n",
      "['kakuni bao', 'appetizers', 'two steamed buns, chopped fatty slow braised niman ranch pork belly, cucumbers, house bao sauce', '6', '3']\n",
      "['edamame fried gyoza (vegan)', 'appetizers', 'six crispy fried edamame and cabbage pot stickers; ponzu rayu dipping sauce', '6', '3']\n",
      "['fried gyoza', 'appetizers', 'six cripsy fried pork and vegetable pot stickers; ponzu rayu dipping sauce', '6', '6']\n",
      "['takoyaki', 'appetizers', 'six octopus-filled fried fritters, kewpie mayo, okonomi sauce, aonori, katsuobushi, nori', '6', '3']\n",
      "['rock shrimp tempura', 'appetizers', 'deep fried tempura battered rock shrimp, sriracha mayo, nisume sauce, aonori, scallions', '6', '3']\n",
      "['soft-shell crab tempura', 'appetizers', 'single deep fried soft-shell crab, tsuyu dipping broth', '6', '3']\n",
      "['ebi katsu shrimp bao', 'appetizers', 'two steamed buns, panko-crusted fried shrimp patties, yuzu-kosho mayo, aonori, scallions', '6', '3']\n",
      "['nagomi shoyu', 'entree', 'shoyu seasoned clear double stock (organic chick broth + house dashi); slow braised niman ranch pork belly, hanjuku tamago, nori, menma, scallions', '11', '5']\n",
      "['shio ramen', 'entree', 'sea salt seasoned clear double stock (organic chicken broth + house dashi); slow braised niman ranch pork belly, hanjuku tamago, kikurage, nori, scallions', '11', '5']\n",
      "['spicy miso ramen', 'entree', 'house togarashi miso blend + niman ranch pork bone stock; slow braised niman ranch pork belly, hanjuku tamago, kikurage, nori, scallions', '12', '5']\n",
      "['vegetarian spicy miso', 'entree', 'house togarashi miso blend + vegan dashi; tempura fried tofu, sweet corn, edamame, kikurage, nori, scallions; organic soy milk upon request', '12', '5']\n",
      "['miso crab ramen', 'entree', 'house miso crab blend + vegan dashi; slow braised niman ranch pork belly, crab meat, hanjuku tamago, kikurage, nori, scallions', '12', '6']\n",
      "['soft-shell miso crab ramen', 'entree', 'house miso crab blend + vegan dashi; fried whole soft-shell crab, hanjuku tamago, kikurage, nori, scallions', '14', '7']\n",
      "['tori paitan ramen', 'entree', 'rich, shoyu seasoned double stock (organic chicken broth + house dashi); slow braised niman ranch pork belly, hanuku tamago, kikurage, nori, scllaions', '13', '6']\n",
      "['tonkotsu ramen', 'entree', 'rich, shoyi seasoned niman ranch pork bone stock; slow braised niman ranch pork belly, hanjuku tamago, kikurage, nori, spring radish, scallions', '13', '6']\n",
      "['burnt garlic tonkotsu ramen', 'entree', 'rich, shoyi and burnt garlic seasoned niman ranch pork bone stock; slow braised niman ranch pork belly, hanjuku tamago, kikurage, sweet corn, nori, scallions', '14', '6']\n",
      "['vegetarian curry + king trumpet mushroom ramen', 'entree', 'house curry blend + vegan dashi; fried king trumpet mushroom, tempura fried tofu, mung bean sprouts, kikurage, nori, scallions', '13', '7']\n",
      "['truffle butter ramen', 'entree', 'rich, shoyu seasoned niman ranch prok bone stock; truffle compound butter, slow braised niman ranch pork belly, kikurage, sweet corn, nori, scallions', '14', '7']\n",
      "['green tea', 'drinks', 'green tea', '2.5', '1']\n",
      "['coke', 'drinks', 'Coca Cola soda', '2', '1']\n",
      "['black sesame ice cream', 'desserts', 'house-made black sesame ice cream, valrhona chocolate threads, complimentary hojicha', '5', '2']\n",
      "['matcha ice cream', 'desserts', 'house-made matcha ice cream, white chocolate pearls; complimentary hojicha', '5', '2']\n",
      "['mango mochi ice cream', 'desserts', 'two rice-cake bonbons filled with strawberry ice cream; complimentary hojicha', '5', '2']\n",
      "['strawberry mochi ice cream', 'desserts', 'two rice-cake bonbons filled with strawberry ice cream; complimentary hojicha', '5', '2']\n",
      "['black sesame creme brulee', 'desserts', 'house made black sesame infused creme brulee; complimentary hojicha', '6', '3']\n"
     ]
    }
   ],
   "source": [
    "# @TODO: For every row in our sales data, loop over the menu records to determine a match\n",
    "\n",
    "\n",
    "for row_count in sales:\n",
    "    print(row_count)"
   ]
  },
  {
   "cell_type": "code",
   "execution_count": 102,
   "id": "eee6af29-90af-4ed4-81cd-a9ea88c615b8",
   "metadata": {},
   "outputs": [],
   "source": [
    " # @TODO: Initialize menu data variables\n",
    "\n",
    "menu_data_variables = ('Item', 'Category', 'Description', 'Price', 'Cost')\n"
   ]
  },
  {
   "cell_type": "code",
   "execution_count": 32,
   "id": "41954d20-2107-457e-9495-39f0a54f4dbe",
   "metadata": {},
   "outputs": [],
   "source": [
    "        # @TODO: Calculate profit of each item in the menu data\n",
    "    \n",
    "    "
   ]
  },
  {
   "cell_type": "code",
   "execution_count": 33,
   "id": "3d1c96b2-ec9a-4902-a288-4303132a9c9f",
   "metadata": {},
   "outputs": [],
   "source": [
    "        # @TODO: If the item value in our sales data is equal to the any of the items in the menu, then begin tracking metrics for that item\n",
    "\n",
    "            # @TODO: Print out matching menu data"
   ]
  },
  {
   "cell_type": "code",
   "execution_count": 34,
   "id": "56cfcb20-07a3-427d-801f-cc8060f197e3",
   "metadata": {},
   "outputs": [],
   "source": [
    "            # @TODO: Cumulatively add up the metrics for each item key\n",
    "    # @TODO: Else, the sales item does not equal any fo the item in the menu data, therefore no match"
   ]
  },
  {
   "cell_type": "code",
   "execution_count": 35,
   "id": "4b3fcc50-8d3e-4595-8246-e2e91de1569f",
   "metadata": {},
   "outputs": [],
   "source": [
    "    # @TODO: Increment the row counter by 1\n",
    "\n",
    "\n",
    "# @TODO: Print total number of records in sales data\n",
    "\n"
   ]
  },
  {
   "cell_type": "code",
   "execution_count": 36,
   "id": "dbca7dc9-cf6c-4b54-877e-740790849692",
   "metadata": {},
   "outputs": [],
   "source": [
    "# @TODO: Write out report to a text file (won't appear on the command line output)"
   ]
  },
  {
   "cell_type": "code",
   "execution_count": null,
   "id": "66a6d1a1-828d-489d-951f-3ea5ec1b27ed",
   "metadata": {},
   "outputs": [],
   "source": []
  }
 ],
 "metadata": {
  "kernelspec": {
   "display_name": "Python 3 (ipykernel)",
   "language": "python",
   "name": "python3"
  },
  "language_info": {
   "codemirror_mode": {
    "name": "ipython",
    "version": 3
   },
   "file_extension": ".py",
   "mimetype": "text/x-python",
   "name": "python",
   "nbconvert_exporter": "python",
   "pygments_lexer": "ipython3",
   "version": "3.9.7"
  }
 },
 "nbformat": 4,
 "nbformat_minor": 5
}
